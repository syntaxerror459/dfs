{
 "cells": [
  {
   "cell_type": "code",
   "execution_count": 1,
   "metadata": {},
   "outputs": [
    {
     "name": "stdout",
     "output_type": "stream",
     "text": [
      "Current Node    | Fringe\n",
      "-               | A\n",
      "A               | B S\n",
      "S               | B C G\n",
      "G               | B C H F\n",
      "F               | B C H\n",
      "Path: A => S => G => H\n"
     ]
    }
   ],
   "source": [
    "from collections import deque\n",
    "\n",
    "class Graph:\n",
    "    def __init__(self, directed):\n",
    "        self.edges={}\n",
    "        self.directed = directed\n",
    "    \n",
    "    def add_edge(self, node1, node2,__reversed=False):\n",
    "        try:\n",
    "            self.edges[node1].add(node2)\n",
    "        except KeyError:\n",
    "            self.edges[node1] = set()\n",
    "            self.edges[node1].add(node2)\n",
    "        if not self.directed and not __reversed:\n",
    "            self.add_edge(node2,node1,True)\n",
    "    \n",
    "    def add_edges(self, edges):\n",
    "        for edge in edges:\n",
    "            self.add_edge(edge[0],edge[1])\n",
    "\n",
    "    def neighbours(self, node):\n",
    "        try:\n",
    "            return self.edges[node]\n",
    "        except KeyError:\n",
    "            return []\n",
    "        \n",
    "    @staticmethod\n",
    "    def traceback_path(goal, predecessor):\n",
    "        current,path = goal,deque()\n",
    "        while True:\n",
    "            path.appendleft(current)\n",
    "            current = predecessor[current]\n",
    "            if current is None: break\n",
    "        return path\n",
    "    \n",
    "    def dfs(self, start, goal):\n",
    "        fringe = deque(start)\n",
    "        visited = {start}\n",
    "        predecessor = {start: None}\n",
    "        current = '-'\n",
    "        print(f\"{'Current Node':15} | {'Fringe'}\")\n",
    "        while fringe:\n",
    "            print(f\"{current:15} |\", *fringe)\n",
    "            current = fringe.pop()\n",
    "            if current == goal:\n",
    "                path =  Graph.traceback_path(goal,predecessor)\n",
    "                print(f\"Path: {' => '.join(path)}\") \n",
    "                return path\n",
    "            for x in self.neighbours(current):\n",
    "                if x not in visited:\n",
    "                    fringe.append(x)\n",
    "                    visited.add(x)\n",
    "                    predecessor[x] = current\n",
    "\n",
    "if __name__ == \"__main__\":\n",
    "    g = Graph(directed = False)\n",
    "    g.add_edges([\n",
    "        (\"A\",\"B\"),(\"A\",\"S\"),(\"S\",\"G\"),(\"S\",\"C\"),(\"C\",\"F\"),\n",
    "        (\"G\",\"F\"),(\"C\",\"D\"),(\"C\",\"E\"),(\"E\",\"H\"),(\"G\",\"H\")\n",
    "    ])\n",
    "    start,goal = \"A\",\"H\"\n",
    "    g.dfs(start,goal) or print(\"No paths Found!\")"
   ]
  },
  {
   "cell_type": "code",
   "execution_count": null,
   "metadata": {},
   "outputs": [],
   "source": []
  }
 ],
 "metadata": {
  "kernelspec": {
   "display_name": "Python 3.9.13 ('base')",
   "language": "python",
   "name": "python3"
  },
  "language_info": {
   "codemirror_mode": {
    "name": "ipython",
    "version": 3
   },
   "file_extension": ".py",
   "mimetype": "text/x-python",
   "name": "python",
   "nbconvert_exporter": "python",
   "pygments_lexer": "ipython3",
   "version": "3.9.13"
  },
  "orig_nbformat": 4,
  "vscode": {
   "interpreter": {
    "hash": "5b30f736e45932896a1a27b0973802247d41f5c6dfddee68ac14f4b5531b8d9e"
   }
  }
 },
 "nbformat": 4,
 "nbformat_minor": 2
}
